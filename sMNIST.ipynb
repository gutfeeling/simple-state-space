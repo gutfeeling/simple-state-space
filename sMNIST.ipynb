{
 "cells": [
  {
   "cell_type": "markdown",
   "id": "3d56aec3-7b17-4c5a-873b-cdb36d87ed63",
   "metadata": {},
   "source": [
    "## Download and prepare data"
   ]
  },
  {
   "cell_type": "code",
   "execution_count": 2,
   "id": "c520982b-828a-4e02-baee-53fa2389f166",
   "metadata": {},
   "outputs": [],
   "source": [
    "from torchvision import datasets, transforms\n",
    "from torch.utils.data import DataLoader\n",
    "\n",
    "transform = transforms.Compose([\n",
    "        transforms.ToTensor(),\n",
    "        transforms.Normalize((0.1307,), (0.3081,))\n",
    "    ])\n",
    "\n",
    "train_dataset = datasets.MNIST(root='./data', train=True, download=True, transform=transform)\n",
    "test_dataset = datasets.MNIST(root='./data', train=False, download=True, transform=transform)\n",
    "\n",
    "train_loader = DataLoader(train_dataset, batch_size=64, shuffle=True)\n",
    "test_loader = DataLoader(test_dataset, batch_size=64, shuffle=False)"
   ]
  },
  {
   "cell_type": "markdown",
   "id": "a7248a76-6d8d-476a-a012-36ef4b19134e",
   "metadata": {},
   "source": [
    "## Prepare model"
   ]
  },
  {
   "cell_type": "code",
   "execution_count": 3,
   "id": "a9ff81cd-986a-4400-9f47-031787323038",
   "metadata": {},
   "outputs": [],
   "source": [
    "from dataclasses import dataclass\n",
    "\n",
    "import torch\n",
    "import torch.optim as optim\n",
    "\n",
    "from model import ModelArgs, SSMModel\n",
    "\n",
    "config = ModelArgs()\n",
    "device = torch.device(config.device)\n",
    "model = SSMModel(config)\n",
    "model.to(device)\n",
    "criterion = torch.nn.CrossEntropyLoss()\n",
    "optimizer = optim.Adam(model.parameters(), lr=0.004)"
   ]
  },
  {
   "cell_type": "markdown",
   "id": "2f871917-e1db-4a6b-b12a-1f786741befe",
   "metadata": {},
   "source": [
    "## Train and test"
   ]
  },
  {
   "cell_type": "code",
   "execution_count": null,
   "id": "47ee4174-811d-4f92-aa7d-51688f999e04",
   "metadata": {},
   "outputs": [
    {
     "name": "stdout",
     "output_type": "stream",
     "text": [
      "Train Epoch: 0 [0/60000 (0%)]\tLoss: 2.453810\n",
      "Train Epoch: 0 [6400/60000 (11%)]\tLoss: 0.369844\n",
      "Train Epoch: 0 [12800/60000 (21%)]\tLoss: 0.349854\n",
      "Train Epoch: 0 [19200/60000 (32%)]\tLoss: 0.350070\n",
      "Train Epoch: 0 [25600/60000 (43%)]\tLoss: 0.264887\n",
      "Train Epoch: 0 [32000/60000 (53%)]\tLoss: 0.401541\n",
      "Train Epoch: 0 [38400/60000 (64%)]\tLoss: 0.170873\n",
      "Train Epoch: 0 [44800/60000 (75%)]\tLoss: 0.309219\n",
      "Train Epoch: 0 [51200/60000 (85%)]\tLoss: 0.221120\n",
      "Train Epoch: 0 [57600/60000 (96%)]\tLoss: 0.355464\n",
      "\n",
      "Test set: Average loss: 0.0039, Accuracy: 9257/10000 (93%)\n",
      "\n",
      "Train Epoch: 1 [0/60000 (0%)]\tLoss: 0.164499\n",
      "Train Epoch: 1 [6400/60000 (11%)]\tLoss: 0.253728\n",
      "Train Epoch: 1 [12800/60000 (21%)]\tLoss: 0.258069\n",
      "Train Epoch: 1 [19200/60000 (32%)]\tLoss: 0.181496\n",
      "Train Epoch: 1 [25600/60000 (43%)]\tLoss: 0.342829\n",
      "Train Epoch: 1 [32000/60000 (53%)]\tLoss: 0.278268\n",
      "Train Epoch: 1 [38400/60000 (64%)]\tLoss: 0.195364\n",
      "Train Epoch: 1 [44800/60000 (75%)]\tLoss: 0.277312\n",
      "Train Epoch: 1 [51200/60000 (85%)]\tLoss: 0.141690\n",
      "Train Epoch: 1 [57600/60000 (96%)]\tLoss: 0.120946\n",
      "\n",
      "Test set: Average loss: 0.0037, Accuracy: 9295/10000 (93%)\n",
      "\n",
      "Train Epoch: 2 [0/60000 (0%)]\tLoss: 0.200045\n",
      "Train Epoch: 2 [6400/60000 (11%)]\tLoss: 0.428043\n",
      "Train Epoch: 2 [12800/60000 (21%)]\tLoss: 0.426062\n"
     ]
    }
   ],
   "source": [
    "for epoch in range(10):\n",
    "    model.train()\n",
    "    for batch_idx, (data, target) in enumerate(train_loader):\n",
    "        data = data.view(-1, 28, 28).to(device)  # Reshape data to (batch_size, seq_length, input_size)\n",
    "        target = target.to(device)\n",
    "        optimizer.zero_grad()\n",
    "        output = model(data)[:, 27, :]\n",
    "        loss = criterion(output, target)\n",
    "        loss.backward()\n",
    "        optimizer.step()\n",
    "\n",
    "        if batch_idx % 100 == 0:\n",
    "            print(\n",
    "                f'Train Epoch: {epoch} [{batch_idx * len(data)}/{len(train_loader.dataset)} ({100. * batch_idx / len(train_loader):.0f}%)]\\tLoss: {loss.item():.6f}'\n",
    "        )\n",
    "    model.eval()\n",
    "    test_loss = 0\n",
    "    correct = 0\n",
    "    with torch.no_grad():\n",
    "        for data, target in test_loader:\n",
    "            data = data.view(-1, 28, 28).to(device)\n",
    "            target = target.to(device)\n",
    "            output = model(data)[:, 27, :]\n",
    "            test_loss += criterion(output, target).item()\n",
    "            pred = output.argmax(dim=1, keepdim=True)\n",
    "            correct += pred.eq(target.view_as(pred)).sum().item()\n",
    "\n",
    "        test_loss /= len(test_loader.dataset)\n",
    "        print(\n",
    "            f'\\nTest set: Average loss: {test_loss:.4f}, Accuracy: {correct}/{len(test_loader.dataset)} ({100. * correct / len(test_loader.dataset):.0f}%)\\n'\n",
    "        )"
   ]
  },
  {
   "cell_type": "code",
   "execution_count": null,
   "id": "67421fd9-8b13-425f-9341-b84702c1ba09",
   "metadata": {},
   "outputs": [],
   "source": []
  }
 ],
 "metadata": {
  "kernelspec": {
   "display_name": "Python 3 (ipykernel)",
   "language": "python",
   "name": "python3"
  },
  "language_info": {
   "codemirror_mode": {
    "name": "ipython",
    "version": 3
   },
   "file_extension": ".py",
   "mimetype": "text/x-python",
   "name": "python",
   "nbconvert_exporter": "python",
   "pygments_lexer": "ipython3",
   "version": "3.11.3"
  }
 },
 "nbformat": 4,
 "nbformat_minor": 5
}
